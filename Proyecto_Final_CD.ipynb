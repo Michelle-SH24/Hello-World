{
  "nbformat": 4,
  "nbformat_minor": 0,
  "metadata": {
    "colab": {
      "name": "Proyecto_Final_CD.ipynb",
      "provenance": [],
      "authorship_tag": "ABX9TyPxs2mxwNSZ0gLFiNg+0x11",
      "include_colab_link": true
    },
    "kernelspec": {
      "name": "python3",
      "display_name": "Python 3"
    },
    "language_info": {
      "name": "python"
    }
  },
  "cells": [
    {
      "cell_type": "markdown",
      "metadata": {
        "id": "view-in-github",
        "colab_type": "text"
      },
      "source": [
        "<a href=\"https://colab.research.google.com/github/Michelle-SH24/Hello-World/blob/main/Proyecto_Final_CD.ipynb\" target=\"_parent\"><img src=\"https://colab.research.google.com/assets/colab-badge.svg\" alt=\"Open In Colab\"/></a>"
      ]
    },
    {
      "cell_type": "markdown",
      "metadata": {
        "id": "2IXh0eAlWHWy"
      },
      "source": [
        "# **PROYECTO FINAL**\n",
        "## **SEE - CIENCIA DE DATOS**\n",
        "\n",
        "\n",
        "*   Data\n",
        "*   Scripts\n",
        "*   Archivo notebook, que puede ser:\n",
        "    1. .Rmd hecho desde RStudio o kernel de kaggle o\n",
        "    2. .ypnb hecho desde Jupyter notebook, RStudio,  Google colab o kernel de Kaggle\n",
        "*   Cualquier archivo necesario para reproducir el análisis.\n"
      ]
    },
    {
      "cell_type": "markdown",
      "metadata": {
        "id": "j7I-sPEUjcqd"
      },
      "source": [
        "### DATA"
      ]
    },
    {
      "cell_type": "code",
      "metadata": {
        "id": "C4fnXT1GbFHO"
      },
      "source": [
        "/Descriptivos_Unir_Datos_Pivot.ipynb"
      ],
      "execution_count": null,
      "outputs": []
    },
    {
      "cell_type": "code",
      "metadata": {
        "id": "YhQPUJn8bFg2"
      },
      "source": [
        "/content/drive"
      ],
      "execution_count": null,
      "outputs": []
    }
  ]
}